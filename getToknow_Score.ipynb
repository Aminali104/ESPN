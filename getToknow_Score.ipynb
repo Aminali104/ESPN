{
 "cells": [
  {
   "cell_type": "markdown",
   "metadata": {},
   "source": [
    "## Fetch the score from ESPN website and send it to the registered mobile number as a message after the interval of 15 minutes untill the match is not over by using Twilio API "
   ]
  },
  {
   "cell_type": "code",
   "execution_count": 1,
   "metadata": {},
   "outputs": [],
   "source": [
    "import requests\n",
    "from lxml import html\n",
    "from twilio.rest import Client\n",
    "import time"
   ]
  },
  {
   "cell_type": "code",
   "execution_count": 2,
   "metadata": {},
   "outputs": [],
   "source": [
    "url=\"http://www.espncricinfo.com/series/18018/scorecard/1119550/england-vs-india-2nd-test-ind-in-eng-2018\""
   ]
  },
  {
   "cell_type": "code",
   "execution_count": 3,
   "metadata": {},
   "outputs": [],
   "source": [
    "response=requests.get(url) ##taking response from the website"
   ]
  },
  {
   "cell_type": "code",
   "execution_count": 4,
   "metadata": {},
   "outputs": [
    {
     "data": {
      "text/plain": [
       "<Response [200]>"
      ]
     },
     "execution_count": 4,
     "metadata": {},
     "output_type": "execute_result"
    }
   ],
   "source": [
    "response"
   ]
  },
  {
   "cell_type": "code",
   "execution_count": 5,
   "metadata": {},
   "outputs": [],
   "source": [
    "p=response.status_code"
   ]
  },
  {
   "cell_type": "code",
   "execution_count": 6,
   "metadata": {},
   "outputs": [
    {
     "data": {
      "text/plain": [
       "200"
      ]
     },
     "execution_count": 6,
     "metadata": {},
     "output_type": "execute_result"
    }
   ],
   "source": [
    "p"
   ]
  },
  {
   "cell_type": "code",
   "execution_count": 7,
   "metadata": {},
   "outputs": [],
   "source": [
    "t=response.content"
   ]
  },
  {
   "cell_type": "code",
   "execution_count": 8,
   "metadata": {},
   "outputs": [],
   "source": [
    "tree=html.fromstring(t)"
   ]
  },
  {
   "cell_type": "code",
   "execution_count": 9,
   "metadata": {
    "scrolled": false
   },
   "outputs": [
    {
     "name": "stdout",
     "output_type": "stream",
     "text": [
      "INDIA    107 & 130 (47 ov)\n",
      "ENG      396/7d\n",
      "SMba566c6f913f4270948ff83c5538614b\n",
      "INDIA    107 & 130 (47 ov)\n",
      "ENG      396/7d\n",
      "SM8b0e3ed1623040348a92e5e6ba259001\n"
     ]
    }
   ],
   "source": [
    "tick=0\n",
    "while True:\n",
    "    tick=tick+1\n",
    "    time.sleep(900)\n",
    "    india_team=tree.xpath(\".//div[@class='cscore_team icon-font-after']/div[@class='cscore_truncate']/a/span[@class='cscore_name cscore_name--abbrev']/text()\")[0]\n",
    "    india_runs=tree.xpath(\".//div[@class='cscore_score ']/text()\")[0]\n",
    "    india_over=tree.xpath(\".//div[@class='cscore_score ']/span[@class='cscore_overs']/text()\")[0]\n",
    "    england_team=tree.xpath(\".//div[@class='cscore_team icon-font-after']/div[@class='cscore_truncate']/a/span[@class='cscore_name cscore_name--abbrev']/text()\")[1]\n",
    "    england_runs=tree.xpath(\".//div[@class='cscore_score ']/text()\")[1]\n",
    "    d=print(india_team+\"    \"+india_runs+india_over)\n",
    "    print(england_team+\"      \"+england_runs)\n",
    "\n",
    "    # Your Account SID from twilio.com/console\n",
    "    account_sid = \"ACe168f8634e8fff4dfaf0de67023da9a8\"\n",
    "    # Your Auth Token from twilio.com/console\n",
    "    auth_token  = \"7decba7127fedaefbd9a33647194896f\"\n",
    "\n",
    "    client = Client(account_sid, auth_token)\n",
    "\n",
    "    message = client.messages.create(\n",
    "    to=\"+919088142944\", \n",
    "    from_=\"+15716205131\",\n",
    "    body=india_team+\"  \"+india_runs+india_over+\"/\"+england_team+\"  \"+england_runs)\n",
    "    print(message.sid)\n",
    "    if(tick==2):\n",
    "        break\n"
   ]
  },
  {
   "cell_type": "code",
   "execution_count": null,
   "metadata": {},
   "outputs": [],
   "source": []
  },
  {
   "cell_type": "code",
   "execution_count": null,
   "metadata": {},
   "outputs": [],
   "source": []
  }
 ],
 "metadata": {
  "kernelspec": {
   "display_name": "Python 3",
   "language": "python",
   "name": "python3"
  },
  "language_info": {
   "codemirror_mode": {
    "name": "ipython",
    "version": 3
   },
   "file_extension": ".py",
   "mimetype": "text/x-python",
   "name": "python",
   "nbconvert_exporter": "python",
   "pygments_lexer": "ipython3",
   "version": "3.6.5"
  }
 },
 "nbformat": 4,
 "nbformat_minor": 2
}
